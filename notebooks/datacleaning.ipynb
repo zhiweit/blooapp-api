{
 "cells": [
  {
   "cell_type": "markdown",
   "metadata": {},
   "source": [
    "# Adding material to the item name"
   ]
  },
  {
   "cell_type": "markdown",
   "metadata": {},
   "source": [
    "Changes manually made to the NEA json data (`data/data.json`) `item` and `simiar_items` field for the vision model to map the image item to the item name of the correct material\n",
    "- `tube` to `glass tube`\n",
    "- `Paint container` to `Metal paint container`\n",
    "- `Paint cans` to `Metal paint cans`\n",
    "- `Bakeware` to `Glass Bakeware`\n",
    "- `Condiment bottle` to `Glass condiment bottle`\n",
    "- `Beer bottle` to `Glass beer bottle`\n",
    "- `Dryer` to `Hairdryer`\n",
    "- `Bodywash bottle` to `Plastic bodywash bottle`\n",
    "- `Milk bottles` to `Plastic milk bottles`\n",
    "- `Facial cleanser bottle` to `Plastic Facial cleanser bottle`\n",
    "- `Magazine wrapper` to `Plastic magazine wrapper`\n",
    "- `Sauce bottle` to `Glass sauce bottle`\n",
    "- `Condiment bottle` to `Glass condiment bottle`\n",
    "- `Fruit box` to `Plastic fruit box`\n",
    "- `Wine bottle` to `Glass wine bottle`\n",
    "- `Beer bottle` to `Glass Beer bottle`\n",
    "- `Bread bag` to `Plastic bread bag`\n",
    "- `Fire-Wire` to `Fire wire`\n",
    "- `Pill bottle` to `Plastic pill bottle`\n",
    "- `Spoon` to `Plastic spoon`\n",
    "- `Plastic container` to `Plastic tupperware container`\n",
    "- `Serving Bowl` to `Plastic serving bowl`\n",
    "- `Red Wine` to `red wine bottle`,\n",
    "- `Carbonated drink bottle` to `plastic carbonated drink bottle`,\n",
    "- `Carbonated drink can` to `Metal Carbonated drink can`,\n",
    "- `Milk bottles` to `plastic milk bottles`,\n",
    "- `Soft drink bottle` to `plastic soft drink bottle`,\n",
    "- `Medicine bottle` to `plastic medicine bottle`,\n",
    "- `spork` to `plastic spork`,\n",
    "- `White Wine ` to `white wine bottle`,\n",
    "- `Serving Plate` to `plastic serving plate`,\n",
    "- `Water bottle` to `plastic water bottle`,\n",
    "- `Saucer` to `plastic saucer`"
   ]
  },
  {
   "cell_type": "code",
   "execution_count": 54,
   "metadata": {},
   "outputs": [],
   "source": [
    "to_ignore = set([item.lower() for item in [\n",
    " '',\n",
    " '100 plus',\n",
    " 'absolut',\n",
    " 'acer',\n",
    " 'adat',\n",
    " 'adidas',\n",
    " 'almon buuter',\n",
    " 'anchor',\n",
    " 'android',\n",
    " 'apple',\n",
    " 'apple juice',\n",
    " 'aqua',\n",
    " 'asahi',\n",
    " 'asics',\n",
    " 'asus',\n",
    " 'belvedere',\n",
    " \"benjaminmooreyeo's\",\n",
    " 'berocca',\n",
    " 'blackmores',\n",
    " 'bombay sapphire',\n",
    " 'bonjour',\n",
    " 'bowl',\n",
    " 'breda',\n",
    " 'calbee',\n",
    " 'calsberg',\n",
    " 'champagne',\n",
    " 'chilli',\n",
    " 'chivas',\n",
    " 'coke',\n",
    " 'corona',\n",
    " 'dasani',\n",
    " 'dell',\n",
    " 'duracell',\n",
    " 'energizer',\n",
    " 'enriched',\n",
    " 'eveready',\n",
    " 'evian',\n",
    " 'f&n',\n",
    " 'fanta',\n",
    " 'farm fresh',\n",
    " 'fiji',\n",
    " 'fire-wire',\n",
    " 'fnn',\n",
    " 'fork',\n",
    " 'fragrance',\n",
    " 'fruit juice packet',\n",
    " 'gardenia',\n",
    " 'gin',\n",
    " 'google phone',\n",
    " 'green tea',\n",
    " 'greenfield',\n",
    " 'grey goose',\n",
    " 'guinness',\n",
    " 'hammerite',\n",
    " 'hdmi cable',\n",
    " 'heaven & earth',\n",
    " 'heineken',\n",
    " 'hendricks',\n",
    " 'hl',\n",
    " 'hoegarden',\n",
    " 'hojicha tea',\n",
    " 'honey',\n",
    " 'hp',\n",
    " 'hua tiao jiu',\n",
    " 'ice lemon tea',\n",
    " 'ice mountain',\n",
    " 'imac',\n",
    " 'ipad',\n",
    " 'iphone',\n",
    " 'jack daniels',\n",
    " 'jagermeister',\n",
    " 'johnny walker',\n",
    " 'jotun',\n",
    " 'juice',\n",
    " 'ketchup',\n",
    " 'kingfisher',\n",
    " 'knife',\n",
    " 'kronenbourgh',\n",
    " \"lay's\",\n",
    " 'lenovo',\n",
    " 'lightning cable',\n",
    " 'lychee tea',\n",
    " 'macbook',\n",
    " 'macbook air',\n",
    " 'macbook pro',\n",
    " 'marigold',\n",
    " 'mayonaise',\n",
    " 'meadows',\n",
    " 'meiji',\n",
    " 'metal carbonated drink can',\n",
    " 'milo',\n",
    " 'monkey shoulder',\n",
    " 'mustard',\n",
    " 'nescafe',\n",
    " 'nespresso',\n",
    " 'new balance',\n",
    " 'nike',\n",
    " 'nippon paint',\n",
    " 'nokia',\n",
    " 'oatly',\n",
    " 'oatside',\n",
    " 'oolong tea',\n",
    " 'orange juice',\n",
    " 'peanut butter',\n",
    " 'peel fresh',\n",
    " 'pepsi',\n",
    " 'ph balancer',\n",
    " 'pizza box',\n",
    " 'plate',\n",
    " 'pokka',\n",
    " 'prosecco',\n",
    " 'puma',\n",
    " 'rafflespaint',\n",
    " 'razer',\n",
    " 'razor',\n",
    " 'redoxon',\n",
    " 'reebok',\n",
    " 'ribena',\n",
    " 'roku gin',\n",
    " 'ronseal',\n",
    " 'ruffles',\n",
    " 'rum',\n",
    " 'samsung',\n",
    " 'school diary',\n",
    " 'scotts',\n",
    " 'seasons',\n",
    " 'sesame oil',\n",
    " 'sketchers',\n",
    " 'smartwater',\n",
    " 'smirnoff',\n",
    " 'soy sauce',\n",
    " 'spread',\n",
    " 'sprite',\n",
    " 'sunkist',\n",
    " 'sunshine',\n",
    " 'super value',\n",
    " 'tanquery',\n",
    " 'ten year series',\n",
    " 'tequila',\n",
    " 'the botanist',\n",
    " 'tiger',\n",
    " 'tiger brand',\n",
    " 'toiletries',\n",
    " 'top one',\n",
    " 'torres',\n",
    " 'trs',\n",
    " 'ts',\n",
    " 'tube',\n",
    " 'tupperware',\n",
    " 'twisties',\n",
    " 'type b',\n",
    " 'type c',\n",
    " \"tyrrell's\",\n",
    " 'under armour',\n",
    " 'usb',\n",
    " 'usb c',\n",
    " 'vitasoy',\n",
    " 'volvic',\n",
    " 'whisky',\n",
    " 'xlr',\n",
    " \"yeo's\" \n",
    "]])"
   ]
  },
  {
   "cell_type": "markdown",
   "metadata": {},
   "source": [
    "# Put similar items into new entries in the json file"
   ]
  },
  {
   "cell_type": "code",
   "execution_count": 56,
   "metadata": {},
   "outputs": [
    {
     "name": "stdout",
     "output_type": "stream",
     "text": [
      "No. of items in data: 321\n"
     ]
    }
   ],
   "source": [
    "import json\n",
    "with open('../data/data.json', 'r') as file:\n",
    "    data = json.load(file)\n",
    "\n",
    "print(f\"No. of items in data: {len(data)}\")\n",
    "\n"
   ]
  },
  {
   "cell_type": "code",
   "execution_count": 57,
   "metadata": {},
   "outputs": [
    {
     "name": "stdout",
     "output_type": "stream",
     "text": [
      "No. of unique items and similar items in data: 589\n"
     ]
    }
   ],
   "source": [
    "items_in_data = set()\n",
    "with open('../data/data.json', 'r') as file:\n",
    "    data = json.load(file)\n",
    "\n",
    "for item in data:\n",
    "    item_name = item['item']\n",
    "    item_name = item_name.strip()\n",
    "    item_name = item_name.lower()\n",
    "    if item_name not in items_in_data:\n",
    "        items_in_data.add(item_name)\n",
    "    \n",
    "    for similar_item in item['similar_items']:\n",
    "        similar_item = similar_item.strip()\n",
    "        similar_item = similar_item.lower()\n",
    "        if similar_item not in items_in_data:\n",
    "            items_in_data.add(similar_item)\n",
    "\n",
    "\n",
    "print(f\"No. of unique items and similar items in data: {len(items_in_data)}\")"
   ]
  },
  {
   "cell_type": "code",
   "execution_count": 58,
   "metadata": {},
   "outputs": [
    {
     "name": "stdout",
     "output_type": "stream",
     "text": [
      "No. of items in data with similar items after ignoring brands: 430\n"
     ]
    }
   ],
   "source": [
    "unique_items = set()\n",
    "res = []\n",
    "for item in data:\n",
    "    item_name = item['item']\n",
    "    item_name = item_name.strip()\n",
    "    item_name = item_name.lower()\n",
    "    if item_name in to_ignore:\n",
    "        continue\n",
    "\n",
    "    if item_name not in unique_items:\n",
    "        res.append({\n",
    "        'material': item['material'],\n",
    "        'item': item_name,\n",
    "        'recyclable': item['recyclable'],\n",
    "        'instructions': item['instructions']\n",
    "        })\n",
    "        unique_items.add(item_name)\n",
    "\n",
    "    for similar_item in item['similar_items']:\n",
    "        similar_item = similar_item.strip()\n",
    "        similar_item = similar_item.lower()\n",
    "        if similar_item in to_ignore:\n",
    "            continue\n",
    "\n",
    "        if similar_item not in unique_items:\n",
    "            res.append({\n",
    "                'material': item['material'],\n",
    "                'item': similar_item,\n",
    "                'recyclable': item['recyclable'],\n",
    "                'instructions': item['instructions']\n",
    "            })\n",
    "            unique_items.add(similar_item)\n",
    "\n",
    "sorted_res = sorted(res, key=lambda item: item['item'])\n",
    "print(f\"No. of items in data with similar items after ignoring brands: {len(sorted_res)}\")"
   ]
  },
  {
   "cell_type": "code",
   "execution_count": 59,
   "metadata": {},
   "outputs": [],
   "source": [
    "with open('../data/data_with_similar_items.json', 'w') as file:\n",
    "    json.dump(sorted_res, file, indent=4)\n",
    "\n"
   ]
  },
  {
   "cell_type": "markdown",
   "metadata": {},
   "source": [
    "# Removing html links and html elements from instructions"
   ]
  },
  {
   "cell_type": "code",
   "execution_count": 60,
   "metadata": {},
   "outputs": [],
   "source": [
    "import re\n",
    "def extract_link(text):\n",
    "    # Regular expression to find the href attribute in the anchor tag\n",
    "    links = re.findall(r\"href='(.*?)'\", text)\n",
    "    return links if links else []\n",
    "    "
   ]
  },
  {
   "cell_type": "code",
   "execution_count": 61,
   "metadata": {},
   "outputs": [
    {
     "name": "stdout",
     "output_type": "stream",
     "text": [
      "[]\n"
     ]
    }
   ],
   "source": [
    "# text = \"\"\"\n",
    "# Clothes should be donated if they are in good condition. <br/><br/> Click <a href='https://www.nea.gov.sg/our-services/waste-management/donation-resale-and-repair-channels/' target='_blank' style='color:black; font-weight:600; text-decoration: underline; font-style: italic;'>here</a> for avenues to donate, resell or repair your clothes.can be recycled through E-waste bins, located <a href='https://www.nea.gov.sg/our-services/waste-management/3r-programmes-and-resources/e-waste-management/where-to-recycle-e-waste' target='_blank' style='color:black; font-weight:600; text-decoration: underline; font-style: italic;'>here</a>.\n",
    "# \"\"\"\n",
    "text = 'should be disposed of as general waste'\n",
    "print(extract_link(text))"
   ]
  },
  {
   "cell_type": "code",
   "execution_count": 62,
   "metadata": {},
   "outputs": [],
   "source": [
    "import re\n",
    "\n",
    "def remove_html_tags(text):\n",
    "    clean = re.compile('<.*?>')\n",
    "    return re.sub(clean, '', text)"
   ]
  },
  {
   "cell_type": "code",
   "execution_count": 63,
   "metadata": {},
   "outputs": [
    {
     "name": "stdout",
     "output_type": "stream",
     "text": [
      "Clothes should be donated if they are in good condition.  Click here for avenues to donate, resell or repair your clothes.\n"
     ]
    }
   ],
   "source": [
    "text = \"Clothes should be donated if they are in good condition. <br/><br/> Click <a href='https://www.nea.gov.sg/our-services/waste-management/donation-resale-and-repair-channels/' target='_blank' style='color:black; font-weight:600; text-decoration: underline; font-style: italic;'>here</a> for avenues to donate, resell or repair your clothes.\"\n",
    "\n",
    "print(remove_html_tags(text))"
   ]
  },
  {
   "cell_type": "code",
   "execution_count": 64,
   "metadata": {},
   "outputs": [
    {
     "name": "stdout",
     "output_type": "stream",
     "text": [
      "no. of documents in data with similar items: 430\n"
     ]
    }
   ],
   "source": [
    "# read from json file\n",
    "# extract all the links and create a new field in the json called 'link'\n",
    "import json\n",
    "with open('../data/data_with_similar_items.json', 'r') as file:\n",
    "    data = json.load(file)\n",
    "print(f\"no. of documents in data with similar items: {len(data)}\")\n",
    "\n",
    "for doc in data:\n",
    "    doc['item'] = doc['item'].lower()\n",
    "    doc['links'] = extract_link(doc['instructions'])\n",
    "    doc['instructions'] = remove_html_tags(doc['instructions'])\n",
    "    doc['instructions'] = doc['instructions'].strip()\n",
    "    if doc['instructions']:\n",
    "        doc['instructions'] = doc['instructions'][0].capitalize() + doc['instructions'][1:]\n",
    "    else:\n",
    "        doc['instructions'] = ''\n",
    "\n",
    "with open('../data/cleaned_data.json', 'w') as file:\n",
    "    json.dump(data, file, indent=4)"
   ]
  },
  {
   "cell_type": "code",
   "execution_count": 65,
   "metadata": {},
   "outputs": [
    {
     "name": "stdout",
     "output_type": "stream",
     "text": [
      "no. of documents in cleaned data: 430\n"
     ]
    }
   ],
   "source": [
    "with open('../data/cleaned_data.json', 'r') as file:\n",
    "    data = json.load(file)\n",
    "print(f\"no. of documents in cleaned data: {len(data)}\")"
   ]
  },
  {
   "cell_type": "markdown",
   "metadata": {},
   "source": [
    "Perform any further manual cleaning on the json and save it as `cleaned_data_final.json`"
   ]
  },
  {
   "cell_type": "markdown",
   "metadata": {},
   "source": [
    "Manual cleaning made\n",
    "- `located here. (ALBA E-waste recycling bins).` to `located at ALBA E-waste recycling bins.`\n",
    "- `Click here for avenues` to `Refer to the link(s)`\n",
    "- `Click here for for avenues` to `Refer to the link(s)`\n",
    "- `Can be recycled through E-waste bins, located here.` to `Can be recycled through E-waste bins, located at the link(s).`\n"
   ]
  },
  {
   "cell_type": "markdown",
   "metadata": {},
   "source": []
  }
 ],
 "metadata": {
  "kernelspec": {
   "display_name": ".venv",
   "language": "python",
   "name": "python3"
  },
  "language_info": {
   "codemirror_mode": {
    "name": "ipython",
    "version": 3
   },
   "file_extension": ".py",
   "mimetype": "text/x-python",
   "name": "python",
   "nbconvert_exporter": "python",
   "pygments_lexer": "ipython3",
   "version": "3.11.9"
  }
 },
 "nbformat": 4,
 "nbformat_minor": 2
}
